{
  "nbformat": 4,
  "nbformat_minor": 0,
  "metadata": {
    "colab": {
      "name": "Untitled11.ipynb",
      "provenance": []
    },
    "kernelspec": {
      "name": "python3",
      "display_name": "Python 3"
    }
  },
  "cells": [
    {
      "cell_type": "code",
      "metadata": {
        "id": "7xr0whq4YNwi",
        "colab_type": "code",
        "outputId": "cd5acd91-2a14-4b05-ee22-3c9923af05b8",
        "colab": {
          "base_uri": "https://localhost:8080/",
          "height": 275
        }
      },
      "source": [
        "pip install scikit-fuzzy"
      ],
      "execution_count": 1,
      "outputs": [
        {
          "output_type": "stream",
          "text": [
            "Collecting scikit-fuzzy\n",
            "\u001b[?25l  Downloading https://files.pythonhosted.org/packages/6c/f0/5eb5dbe0fd8dfe7d4651a8f4e591a196623a22b9e5339101e559695b4f6c/scikit-fuzzy-0.4.2.tar.gz (993kB)\n",
            "\r\u001b[K     |▎                               | 10kB 18.3MB/s eta 0:00:01\r\u001b[K     |▋                               | 20kB 1.8MB/s eta 0:00:01\r\u001b[K     |█                               | 30kB 2.6MB/s eta 0:00:01\r\u001b[K     |█▎                              | 40kB 3.4MB/s eta 0:00:01\r\u001b[K     |█▋                              | 51kB 2.1MB/s eta 0:00:01\r\u001b[K     |██                              | 61kB 2.5MB/s eta 0:00:01\r\u001b[K     |██▎                             | 71kB 2.9MB/s eta 0:00:01\r\u001b[K     |██▋                             | 81kB 3.3MB/s eta 0:00:01\r\u001b[K     |███                             | 92kB 2.5MB/s eta 0:00:01\r\u001b[K     |███▎                            | 102kB 2.8MB/s eta 0:00:01\r\u001b[K     |███▋                            | 112kB 2.8MB/s eta 0:00:01\r\u001b[K     |████                            | 122kB 2.8MB/s eta 0:00:01\r\u001b[K     |████▎                           | 133kB 2.8MB/s eta 0:00:01\r\u001b[K     |████▋                           | 143kB 2.8MB/s eta 0:00:01\r\u001b[K     |█████                           | 153kB 2.8MB/s eta 0:00:01\r\u001b[K     |█████▎                          | 163kB 2.8MB/s eta 0:00:01\r\u001b[K     |█████▋                          | 174kB 2.8MB/s eta 0:00:01\r\u001b[K     |██████                          | 184kB 2.8MB/s eta 0:00:01\r\u001b[K     |██████▎                         | 194kB 2.8MB/s eta 0:00:01\r\u001b[K     |██████▋                         | 204kB 2.8MB/s eta 0:00:01\r\u001b[K     |███████                         | 215kB 2.8MB/s eta 0:00:01\r\u001b[K     |███████▎                        | 225kB 2.8MB/s eta 0:00:01\r\u001b[K     |███████▋                        | 235kB 2.8MB/s eta 0:00:01\r\u001b[K     |████████                        | 245kB 2.8MB/s eta 0:00:01\r\u001b[K     |████████▎                       | 256kB 2.8MB/s eta 0:00:01\r\u001b[K     |████████▋                       | 266kB 2.8MB/s eta 0:00:01\r\u001b[K     |█████████                       | 276kB 2.8MB/s eta 0:00:01\r\u001b[K     |█████████▎                      | 286kB 2.8MB/s eta 0:00:01\r\u001b[K     |█████████▋                      | 296kB 2.8MB/s eta 0:00:01\r\u001b[K     |██████████                      | 307kB 2.8MB/s eta 0:00:01\r\u001b[K     |██████████▏                     | 317kB 2.8MB/s eta 0:00:01\r\u001b[K     |██████████▌                     | 327kB 2.8MB/s eta 0:00:01\r\u001b[K     |██████████▉                     | 337kB 2.8MB/s eta 0:00:01\r\u001b[K     |███████████▏                    | 348kB 2.8MB/s eta 0:00:01\r\u001b[K     |███████████▌                    | 358kB 2.8MB/s eta 0:00:01\r\u001b[K     |███████████▉                    | 368kB 2.8MB/s eta 0:00:01\r\u001b[K     |████████████▏                   | 378kB 2.8MB/s eta 0:00:01\r\u001b[K     |████████████▌                   | 389kB 2.8MB/s eta 0:00:01\r\u001b[K     |████████████▉                   | 399kB 2.8MB/s eta 0:00:01\r\u001b[K     |█████████████▏                  | 409kB 2.8MB/s eta 0:00:01\r\u001b[K     |█████████████▌                  | 419kB 2.8MB/s eta 0:00:01\r\u001b[K     |█████████████▉                  | 430kB 2.8MB/s eta 0:00:01\r\u001b[K     |██████████████▏                 | 440kB 2.8MB/s eta 0:00:01\r\u001b[K     |██████████████▌                 | 450kB 2.8MB/s eta 0:00:01\r\u001b[K     |██████████████▉                 | 460kB 2.8MB/s eta 0:00:01\r\u001b[K     |███████████████▏                | 471kB 2.8MB/s eta 0:00:01\r\u001b[K     |███████████████▌                | 481kB 2.8MB/s eta 0:00:01\r\u001b[K     |███████████████▉                | 491kB 2.8MB/s eta 0:00:01\r\u001b[K     |████████████████▏               | 501kB 2.8MB/s eta 0:00:01\r\u001b[K     |████████████████▌               | 512kB 2.8MB/s eta 0:00:01\r\u001b[K     |████████████████▉               | 522kB 2.8MB/s eta 0:00:01\r\u001b[K     |█████████████████▏              | 532kB 2.8MB/s eta 0:00:01\r\u001b[K     |█████████████████▌              | 542kB 2.8MB/s eta 0:00:01\r\u001b[K     |█████████████████▉              | 552kB 2.8MB/s eta 0:00:01\r\u001b[K     |██████████████████▏             | 563kB 2.8MB/s eta 0:00:01\r\u001b[K     |██████████████████▌             | 573kB 2.8MB/s eta 0:00:01\r\u001b[K     |██████████████████▉             | 583kB 2.8MB/s eta 0:00:01\r\u001b[K     |███████████████████▏            | 593kB 2.8MB/s eta 0:00:01\r\u001b[K     |███████████████████▌            | 604kB 2.8MB/s eta 0:00:01\r\u001b[K     |███████████████████▉            | 614kB 2.8MB/s eta 0:00:01\r\u001b[K     |████████████████████            | 624kB 2.8MB/s eta 0:00:01\r\u001b[K     |████████████████████▍           | 634kB 2.8MB/s eta 0:00:01\r\u001b[K     |████████████████████▊           | 645kB 2.8MB/s eta 0:00:01\r\u001b[K     |█████████████████████           | 655kB 2.8MB/s eta 0:00:01\r\u001b[K     |█████████████████████▍          | 665kB 2.8MB/s eta 0:00:01\r\u001b[K     |█████████████████████▊          | 675kB 2.8MB/s eta 0:00:01\r\u001b[K     |██████████████████████          | 686kB 2.8MB/s eta 0:00:01\r\u001b[K     |██████████████████████▍         | 696kB 2.8MB/s eta 0:00:01\r\u001b[K     |██████████████████████▊         | 706kB 2.8MB/s eta 0:00:01\r\u001b[K     |███████████████████████         | 716kB 2.8MB/s eta 0:00:01\r\u001b[K     |███████████████████████▍        | 727kB 2.8MB/s eta 0:00:01\r\u001b[K     |███████████████████████▊        | 737kB 2.8MB/s eta 0:00:01\r\u001b[K     |████████████████████████        | 747kB 2.8MB/s eta 0:00:01\r\u001b[K     |████████████████████████▍       | 757kB 2.8MB/s eta 0:00:01\r\u001b[K     |████████████████████████▊       | 768kB 2.8MB/s eta 0:00:01\r\u001b[K     |█████████████████████████       | 778kB 2.8MB/s eta 0:00:01\r\u001b[K     |█████████████████████████▍      | 788kB 2.8MB/s eta 0:00:01\r\u001b[K     |█████████████████████████▊      | 798kB 2.8MB/s eta 0:00:01\r\u001b[K     |██████████████████████████      | 808kB 2.8MB/s eta 0:00:01\r\u001b[K     |██████████████████████████▍     | 819kB 2.8MB/s eta 0:00:01\r\u001b[K     |██████████████████████████▊     | 829kB 2.8MB/s eta 0:00:01\r\u001b[K     |███████████████████████████     | 839kB 2.8MB/s eta 0:00:01\r\u001b[K     |███████████████████████████▍    | 849kB 2.8MB/s eta 0:00:01\r\u001b[K     |███████████████████████████▊    | 860kB 2.8MB/s eta 0:00:01\r\u001b[K     |████████████████████████████    | 870kB 2.8MB/s eta 0:00:01\r\u001b[K     |████████████████████████████▍   | 880kB 2.8MB/s eta 0:00:01\r\u001b[K     |████████████████████████████▊   | 890kB 2.8MB/s eta 0:00:01\r\u001b[K     |█████████████████████████████   | 901kB 2.8MB/s eta 0:00:01\r\u001b[K     |█████████████████████████████▍  | 911kB 2.8MB/s eta 0:00:01\r\u001b[K     |█████████████████████████████▊  | 921kB 2.8MB/s eta 0:00:01\r\u001b[K     |██████████████████████████████  | 931kB 2.8MB/s eta 0:00:01\r\u001b[K     |██████████████████████████████▎ | 942kB 2.8MB/s eta 0:00:01\r\u001b[K     |██████████████████████████████▋ | 952kB 2.8MB/s eta 0:00:01\r\u001b[K     |███████████████████████████████ | 962kB 2.8MB/s eta 0:00:01\r\u001b[K     |███████████████████████████████▎| 972kB 2.8MB/s eta 0:00:01\r\u001b[K     |███████████████████████████████▋| 983kB 2.8MB/s eta 0:00:01\r\u001b[K     |████████████████████████████████| 993kB 2.8MB/s eta 0:00:01\r\u001b[K     |████████████████████████████████| 1.0MB 2.8MB/s \n",
            "\u001b[?25hRequirement already satisfied: numpy>=1.6.0 in /usr/local/lib/python3.6/dist-packages (from scikit-fuzzy) (1.18.2)\n",
            "Requirement already satisfied: scipy>=0.9.0 in /usr/local/lib/python3.6/dist-packages (from scikit-fuzzy) (1.4.1)\n",
            "Requirement already satisfied: networkx>=1.9.0 in /usr/local/lib/python3.6/dist-packages (from scikit-fuzzy) (2.4)\n",
            "Requirement already satisfied: decorator>=4.3.0 in /usr/local/lib/python3.6/dist-packages (from networkx>=1.9.0->scikit-fuzzy) (4.4.2)\n",
            "Building wheels for collected packages: scikit-fuzzy\n",
            "  Building wheel for scikit-fuzzy (setup.py) ... \u001b[?25l\u001b[?25hdone\n",
            "  Created wheel for scikit-fuzzy: filename=scikit_fuzzy-0.4.2-cp36-none-any.whl size=894070 sha256=f18e370ad013a9c466ebd876a38c48b9a6fbbc6ad4a29c45f66f70f7dab34937\n",
            "  Stored in directory: /root/.cache/pip/wheels/b9/4e/77/da79b16f64ef1738d95486e2731eea09d73e90a72465096600\n",
            "Successfully built scikit-fuzzy\n",
            "Installing collected packages: scikit-fuzzy\n",
            "Successfully installed scikit-fuzzy-0.4.2\n"
          ],
          "name": "stdout"
        }
      ]
    },
    {
      "cell_type": "code",
      "metadata": {
        "id": "jOdMotgeYTFc",
        "colab_type": "code",
        "colab": {}
      },
      "source": [
        "import numpy as np\n",
        "import pandas as pd\n",
        "import scipy as sp\n",
        "import matplotlib.pyplot as plt\n",
        "import random\n",
        "import skfuzzy as fuzz\n",
        "from sklearn.model_selection import train_test_split\n",
        "from sklearn.model_selection import cross_val_score\n",
        "from sklearn.metrics import accuracy_score"
      ],
      "execution_count": 0,
      "outputs": []
    },
    {
      "cell_type": "code",
      "metadata": {
        "id": "07EyEmXwYax7",
        "colab_type": "code",
        "outputId": "a89b1842-acdb-4046-b80c-88462df6734b",
        "colab": {
          "base_uri": "https://localhost:8080/",
          "height": 122
        }
      },
      "source": [
        "from google.colab import drive\n",
        "drive.mount('/content/drive')"
      ],
      "execution_count": 4,
      "outputs": [
        {
          "output_type": "stream",
          "text": [
            "Go to this URL in a browser: https://accounts.google.com/o/oauth2/auth?client_id=947318989803-6bn6qk8qdgf4n4g3pfee6491hc0brc4i.apps.googleusercontent.com&redirect_uri=urn%3aietf%3awg%3aoauth%3a2.0%3aoob&response_type=code&scope=email%20https%3a%2f%2fwww.googleapis.com%2fauth%2fdocs.test%20https%3a%2f%2fwww.googleapis.com%2fauth%2fdrive%20https%3a%2f%2fwww.googleapis.com%2fauth%2fdrive.photos.readonly%20https%3a%2f%2fwww.googleapis.com%2fauth%2fpeopleapi.readonly\n",
            "\n",
            "Enter your authorization code:\n",
            "··········\n",
            "Mounted at /content/drive\n"
          ],
          "name": "stdout"
        }
      ]
    },
    {
      "cell_type": "code",
      "metadata": {
        "id": "egkEKUDxYrHY",
        "colab_type": "code",
        "outputId": "e7069a19-07d6-44d4-d4fe-aa6e173daefc",
        "colab": {
          "base_uri": "https://localhost:8080/",
          "height": 224
        }
      },
      "source": [
        "data=pd.read_csv('drive/My Drive/Train_2 (1).csv')\n",
        "data.drop(28,inplace=True)\n",
        "data.dropna()\n",
        "data.head()"
      ],
      "execution_count": 5,
      "outputs": [
        {
          "output_type": "execute_result",
          "data": {
            "text/html": [
              "<div>\n",
              "<style scoped>\n",
              "    .dataframe tbody tr th:only-of-type {\n",
              "        vertical-align: middle;\n",
              "    }\n",
              "\n",
              "    .dataframe tbody tr th {\n",
              "        vertical-align: top;\n",
              "    }\n",
              "\n",
              "    .dataframe thead th {\n",
              "        text-align: right;\n",
              "    }\n",
              "</style>\n",
              "<table border=\"1\" class=\"dataframe\">\n",
              "  <thead>\n",
              "    <tr style=\"text-align: right;\">\n",
              "      <th></th>\n",
              "      <th>sub</th>\n",
              "      <th>C216</th>\n",
              "      <th>C217</th>\n",
              "      <th>C220</th>\n",
              "      <th>C231</th>\n",
              "      <th>C232</th>\n",
              "      <th>C235</th>\n",
              "      <th>C71</th>\n",
              "      <th>C72</th>\n",
              "      <th>C75</th>\n",
              "      <th>C181</th>\n",
              "      <th>C182</th>\n",
              "      <th>C185</th>\n",
              "      <th>C176</th>\n",
              "      <th>C177</th>\n",
              "      <th>C180</th>\n",
              "      <th>C221</th>\n",
              "      <th>C222</th>\n",
              "      <th>C225</th>\n",
              "      <th>C1</th>\n",
              "      <th>C2</th>\n",
              "      <th>C5</th>\n",
              "      <th>C11</th>\n",
              "      <th>C12</th>\n",
              "      <th>C15</th>\n",
              "      <th>C26</th>\n",
              "      <th>C27</th>\n",
              "      <th>C30</th>\n",
              "      <th>C126</th>\n",
              "      <th>C127</th>\n",
              "      <th>C130</th>\n",
              "      <th>C121</th>\n",
              "      <th>C122</th>\n",
              "      <th>C125</th>\n",
              "      <th>C116</th>\n",
              "      <th>C117</th>\n",
              "      <th>C120</th>\n",
              "      <th>C131</th>\n",
              "      <th>C132</th>\n",
              "      <th>C135</th>\n",
              "      <th>C311</th>\n",
              "      <th>C312</th>\n",
              "      <th>C315</th>\n",
              "      <th>C226</th>\n",
              "      <th>C227</th>\n",
              "      <th>C230</th>\n",
              "      <th>mdd</th>\n",
              "    </tr>\n",
              "  </thead>\n",
              "  <tbody>\n",
              "    <tr>\n",
              "      <th>0</th>\n",
              "      <td>507</td>\n",
              "      <td>21.674349</td>\n",
              "      <td>14.099930</td>\n",
              "      <td>2.387568</td>\n",
              "      <td>44.917996</td>\n",
              "      <td>20.497371</td>\n",
              "      <td>1.111564</td>\n",
              "      <td>21.224090</td>\n",
              "      <td>23.448598</td>\n",
              "      <td>4.085677</td>\n",
              "      <td>7.614665</td>\n",
              "      <td>3.899177</td>\n",
              "      <td>0.535605</td>\n",
              "      <td>13.702361</td>\n",
              "      <td>7.348501</td>\n",
              "      <td>0.939868</td>\n",
              "      <td>19.266362</td>\n",
              "      <td>10.247246</td>\n",
              "      <td>1.387171</td>\n",
              "      <td>31.129865</td>\n",
              "      <td>14.856173</td>\n",
              "      <td>1.770791</td>\n",
              "      <td>28.216233</td>\n",
              "      <td>17.051383</td>\n",
              "      <td>2.585762</td>\n",
              "      <td>20.902559</td>\n",
              "      <td>18.025621</td>\n",
              "      <td>4.130615</td>\n",
              "      <td>11.823744</td>\n",
              "      <td>7.304488</td>\n",
              "      <td>1.298215</td>\n",
              "      <td>16.995721</td>\n",
              "      <td>12.819060</td>\n",
              "      <td>2.281814</td>\n",
              "      <td>21.624748</td>\n",
              "      <td>23.685828</td>\n",
              "      <td>5.642496</td>\n",
              "      <td>5.995797</td>\n",
              "      <td>3.464681</td>\n",
              "      <td>0.599201</td>\n",
              "      <td>25.622134</td>\n",
              "      <td>11.918144</td>\n",
              "      <td>1.284748</td>\n",
              "      <td>16.346227</td>\n",
              "      <td>7.715899</td>\n",
              "      <td>0.851480</td>\n",
              "      <td>0</td>\n",
              "    </tr>\n",
              "    <tr>\n",
              "      <th>1</th>\n",
              "      <td>508</td>\n",
              "      <td>58.068525</td>\n",
              "      <td>18.397063</td>\n",
              "      <td>0.515605</td>\n",
              "      <td>42.435819</td>\n",
              "      <td>12.108781</td>\n",
              "      <td>0.252235</td>\n",
              "      <td>48.437891</td>\n",
              "      <td>17.498665</td>\n",
              "      <td>2.115653</td>\n",
              "      <td>22.454499</td>\n",
              "      <td>7.162736</td>\n",
              "      <td>0.209119</td>\n",
              "      <td>25.317887</td>\n",
              "      <td>9.807490</td>\n",
              "      <td>0.516798</td>\n",
              "      <td>47.699973</td>\n",
              "      <td>15.648695</td>\n",
              "      <td>0.367685</td>\n",
              "      <td>48.577287</td>\n",
              "      <td>18.493233</td>\n",
              "      <td>0.972074</td>\n",
              "      <td>49.689822</td>\n",
              "      <td>19.895407</td>\n",
              "      <td>1.037797</td>\n",
              "      <td>44.256215</td>\n",
              "      <td>15.754581</td>\n",
              "      <td>1.907673</td>\n",
              "      <td>26.451819</td>\n",
              "      <td>10.184264</td>\n",
              "      <td>0.446735</td>\n",
              "      <td>33.838628</td>\n",
              "      <td>13.252711</td>\n",
              "      <td>1.052100</td>\n",
              "      <td>47.251542</td>\n",
              "      <td>16.815915</td>\n",
              "      <td>0.917157</td>\n",
              "      <td>14.385056</td>\n",
              "      <td>5.481030</td>\n",
              "      <td>0.224213</td>\n",
              "      <td>92.619206</td>\n",
              "      <td>26.513860</td>\n",
              "      <td>0.795009</td>\n",
              "      <td>46.407350</td>\n",
              "      <td>14.356040</td>\n",
              "      <td>0.308012</td>\n",
              "      <td>0</td>\n",
              "    </tr>\n",
              "    <tr>\n",
              "      <th>2</th>\n",
              "      <td>509</td>\n",
              "      <td>49.665371</td>\n",
              "      <td>16.829342</td>\n",
              "      <td>0.910013</td>\n",
              "      <td>30.883060</td>\n",
              "      <td>10.356336</td>\n",
              "      <td>0.343335</td>\n",
              "      <td>28.169735</td>\n",
              "      <td>11.745491</td>\n",
              "      <td>1.347537</td>\n",
              "      <td>17.459463</td>\n",
              "      <td>6.725473</td>\n",
              "      <td>0.232844</td>\n",
              "      <td>22.984866</td>\n",
              "      <td>8.880873</td>\n",
              "      <td>0.323530</td>\n",
              "      <td>40.281998</td>\n",
              "      <td>13.536411</td>\n",
              "      <td>0.558472</td>\n",
              "      <td>26.061153</td>\n",
              "      <td>23.225411</td>\n",
              "      <td>4.038577</td>\n",
              "      <td>23.939216</td>\n",
              "      <td>12.917679</td>\n",
              "      <td>2.392762</td>\n",
              "      <td>27.130611</td>\n",
              "      <td>12.791142</td>\n",
              "      <td>1.426820</td>\n",
              "      <td>16.740916</td>\n",
              "      <td>6.957773</td>\n",
              "      <td>0.389087</td>\n",
              "      <td>24.495512</td>\n",
              "      <td>9.515822</td>\n",
              "      <td>0.656791</td>\n",
              "      <td>31.782174</td>\n",
              "      <td>13.558822</td>\n",
              "      <td>1.647254</td>\n",
              "      <td>9.255708</td>\n",
              "      <td>4.120874</td>\n",
              "      <td>0.218449</td>\n",
              "      <td>60.465755</td>\n",
              "      <td>19.029402</td>\n",
              "      <td>0.916170</td>\n",
              "      <td>30.946718</td>\n",
              "      <td>10.375987</td>\n",
              "      <td>0.344302</td>\n",
              "      <td>0</td>\n",
              "    </tr>\n",
              "    <tr>\n",
              "      <th>3</th>\n",
              "      <td>510</td>\n",
              "      <td>32.944695</td>\n",
              "      <td>14.003298</td>\n",
              "      <td>0.988404</td>\n",
              "      <td>21.210932</td>\n",
              "      <td>8.198738</td>\n",
              "      <td>0.371886</td>\n",
              "      <td>44.883727</td>\n",
              "      <td>16.243897</td>\n",
              "      <td>0.898270</td>\n",
              "      <td>17.301618</td>\n",
              "      <td>5.836639</td>\n",
              "      <td>0.245023</td>\n",
              "      <td>26.254576</td>\n",
              "      <td>8.636219</td>\n",
              "      <td>0.345388</td>\n",
              "      <td>31.252036</td>\n",
              "      <td>12.055650</td>\n",
              "      <td>0.678953</td>\n",
              "      <td>26.506082</td>\n",
              "      <td>13.180509</td>\n",
              "      <td>1.083436</td>\n",
              "      <td>26.746937</td>\n",
              "      <td>13.629236</td>\n",
              "      <td>1.118375</td>\n",
              "      <td>25.342135</td>\n",
              "      <td>11.108114</td>\n",
              "      <td>1.018578</td>\n",
              "      <td>23.383042</td>\n",
              "      <td>7.849772</td>\n",
              "      <td>0.370745</td>\n",
              "      <td>26.764916</td>\n",
              "      <td>9.715534</td>\n",
              "      <td>0.623609</td>\n",
              "      <td>28.112876</td>\n",
              "      <td>14.371948</td>\n",
              "      <td>1.783017</td>\n",
              "      <td>12.964635</td>\n",
              "      <td>4.498048</td>\n",
              "      <td>0.214863</td>\n",
              "      <td>35.986873</td>\n",
              "      <td>15.851479</td>\n",
              "      <td>1.134914</td>\n",
              "      <td>27.899324</td>\n",
              "      <td>10.464522</td>\n",
              "      <td>0.506227</td>\n",
              "      <td>0</td>\n",
              "    </tr>\n",
              "    <tr>\n",
              "      <th>4</th>\n",
              "      <td>511</td>\n",
              "      <td>27.536333</td>\n",
              "      <td>11.534927</td>\n",
              "      <td>0.654818</td>\n",
              "      <td>15.360508</td>\n",
              "      <td>6.510325</td>\n",
              "      <td>0.309164</td>\n",
              "      <td>23.325441</td>\n",
              "      <td>12.823170</td>\n",
              "      <td>1.558925</td>\n",
              "      <td>9.086327</td>\n",
              "      <td>4.868587</td>\n",
              "      <td>0.308925</td>\n",
              "      <td>13.881422</td>\n",
              "      <td>7.106423</td>\n",
              "      <td>0.457533</td>\n",
              "      <td>22.108835</td>\n",
              "      <td>9.562333</td>\n",
              "      <td>0.470252</td>\n",
              "      <td>29.305121</td>\n",
              "      <td>14.182968</td>\n",
              "      <td>1.060786</td>\n",
              "      <td>27.143787</td>\n",
              "      <td>12.893979</td>\n",
              "      <td>0.818188</td>\n",
              "      <td>26.950727</td>\n",
              "      <td>14.520981</td>\n",
              "      <td>1.161594</td>\n",
              "      <td>13.162992</td>\n",
              "      <td>7.320938</td>\n",
              "      <td>0.472170</td>\n",
              "      <td>18.680493</td>\n",
              "      <td>9.787225</td>\n",
              "      <td>0.926854</td>\n",
              "      <td>23.570377</td>\n",
              "      <td>14.194071</td>\n",
              "      <td>2.356958</td>\n",
              "      <td>7.730372</td>\n",
              "      <td>4.721259</td>\n",
              "      <td>0.246923</td>\n",
              "      <td>42.983522</td>\n",
              "      <td>14.013467</td>\n",
              "      <td>0.629870</td>\n",
              "      <td>18.300251</td>\n",
              "      <td>7.895698</td>\n",
              "      <td>0.352694</td>\n",
              "      <td>0</td>\n",
              "    </tr>\n",
              "  </tbody>\n",
              "</table>\n",
              "</div>"
            ],
            "text/plain": [
              "   sub       C216       C217      C220  ...       C226       C227      C230  mdd\n",
              "0  507  21.674349  14.099930  2.387568  ...  16.346227   7.715899  0.851480    0\n",
              "1  508  58.068525  18.397063  0.515605  ...  46.407350  14.356040  0.308012    0\n",
              "2  509  49.665371  16.829342  0.910013  ...  30.946718  10.375987  0.344302    0\n",
              "3  510  32.944695  14.003298  0.988404  ...  27.899324  10.464522  0.506227    0\n",
              "4  511  27.536333  11.534927  0.654818  ...  18.300251   7.895698  0.352694    0\n",
              "\n",
              "[5 rows x 47 columns]"
            ]
          },
          "metadata": {
            "tags": []
          },
          "execution_count": 5
        }
      ]
    },
    {
      "cell_type": "code",
      "metadata": {
        "id": "3QRyqaILY0JQ",
        "colab_type": "code",
        "outputId": "2441ed88-d2f3-42e8-a5d1-28e7bdfe9677",
        "colab": {
          "base_uri": "https://localhost:8080/",
          "height": 51
        }
      },
      "source": [
        "rules=[]\n",
        "from itertools import product\n",
        "for roll in product([1, 2, 3], repeat = 12):\n",
        "    rules.append(roll)\n",
        "print(len(rules))\n",
        "print(rules[1])"
      ],
      "execution_count": 6,
      "outputs": [
        {
          "output_type": "stream",
          "text": [
            "531441\n",
            "(1, 1, 1, 1, 1, 1, 1, 1, 1, 1, 1, 2)\n"
          ],
          "name": "stdout"
        }
      ]
    },
    {
      "cell_type": "code",
      "metadata": {
        "id": "XCkF2ynLY3mr",
        "colab_type": "code",
        "colab": {}
      },
      "source": [
        "col_names=list(data.columns)\n",
        "temp=pd.DataFrame()\n",
        "for i in range(1,47):\n",
        "    minimum=min(data[col_names[i]])\n",
        "    maximum=max(data[col_names[i]])\n",
        "    temp[col_names[i]]=((data[col_names[i]]-minimum)/(maximum-minimum))\n"
      ],
      "execution_count": 0,
      "outputs": []
    },
    {
      "cell_type": "code",
      "metadata": {
        "id": "sFa4uX2oY9fN",
        "colab_type": "code",
        "outputId": "f5d46d35-0974-404f-8c05-635e36b8628f",
        "colab": {
          "base_uri": "https://localhost:8080/",
          "height": 34
        }
      },
      "source": [
        "X=temp.iloc[:,0:12]\n",
        "\n",
        "X.shape\n"
      ],
      "execution_count": 9,
      "outputs": [
        {
          "output_type": "execute_result",
          "data": {
            "text/plain": [
              "(118, 12)"
            ]
          },
          "metadata": {
            "tags": []
          },
          "execution_count": 9
        }
      ]
    },
    {
      "cell_type": "code",
      "metadata": {
        "id": "O8MDM6sl32xO",
        "colab_type": "code",
        "colab": {}
      },
      "source": [
        "y=np.array(temp.iloc[:,45])"
      ],
      "execution_count": 0,
      "outputs": []
    },
    {
      "cell_type": "code",
      "metadata": {
        "id": "Zc_h5K7SZjvz",
        "colab_type": "code",
        "colab": {}
      },
      "source": [
        "for i in range(X.shape[0]):\n",
        "  for j in range(X.shape[1]):\n",
        "    if X.iloc[i,j]<0.15:\n",
        "      X.iloc[i,j]=int(1)\n",
        "    elif X.iloc[i,j]>=0.15 and X.iloc[i,j]<0.30:\n",
        "      X.iloc[i,j]=2\n",
        "    else:\n",
        "      X.iloc[i,j]=3"
      ],
      "execution_count": 0,
      "outputs": []
    },
    {
      "cell_type": "code",
      "metadata": {
        "id": "_tIWwj6iZp5z",
        "colab_type": "code",
        "colab": {}
      },
      "source": [
        "X=X.astype('int')\n"
      ],
      "execution_count": 0,
      "outputs": []
    },
    {
      "cell_type": "code",
      "metadata": {
        "id": "ehJCb0ebbMnz",
        "colab_type": "code",
        "colab": {}
      },
      "source": [
        "X=np.array(X)"
      ],
      "execution_count": 0,
      "outputs": []
    },
    {
      "cell_type": "code",
      "metadata": {
        "id": "XjOxj_0eZt17",
        "colab_type": "code",
        "colab": {}
      },
      "source": [
        "rules_up=[]\n",
        "for i in rules:\n",
        "  # print(i)\n",
        "  for j in X:\n",
        "    # print(j)\n",
        "    if np.array_equal(i,j):\n",
        "      \n",
        "      rules_up.append(i)"
      ],
      "execution_count": 0,
      "outputs": []
    },
    {
      "cell_type": "code",
      "metadata": {
        "id": "nLnUp3CzZ0gR",
        "colab_type": "code",
        "outputId": "09b82b82-0135-496f-e6a1-3f06d927ebd0",
        "colab": {
          "base_uri": "https://localhost:8080/",
          "height": 34
        }
      },
      "source": [
        "print(len(rules_up))"
      ],
      "execution_count": 15,
      "outputs": [
        {
          "output_type": "stream",
          "text": [
            "118\n"
          ],
          "name": "stdout"
        }
      ]
    },
    {
      "cell_type": "code",
      "metadata": {
        "id": "0TjbtZIUaNG9",
        "colab_type": "code",
        "colab": {}
      },
      "source": [
        "from skfuzzy import control as ctrl"
      ],
      "execution_count": 0,
      "outputs": []
    },
    {
      "cell_type": "code",
      "metadata": {
        "id": "nlmYoQZLbWQw",
        "colab_type": "code",
        "colab": {}
      },
      "source": [
        "dict_r={}\n",
        "for i in range(1,13):\n",
        "  dict_r[col_names[i]]=ctrl.Antecedent(np.arange(0, 1, 0.1), col_names[i])\n",
        "res=ctrl.Consequent(np.arange(0, 1, 0.1), 'result')\n",
        "for i in range(1,13):\n",
        "  dict_r[col_names[i]]['BC']=fuzz.trimf(dict_r[col_names[i]].universe,[0,0,0.2])\n",
        "  dict_r[col_names[i]]['anon']=fuzz.trimf(dict_r[col_names[i]].universe,[0,0.2,0.3])\n",
        "  dict_r[col_names[i]]['EF']=fuzz.trimf(dict_r[col_names[i]].universe,[0.2,1.0,1.0])\n",
        "res['poor']=fuzz.trimf(res.universe,[0,0,0.2])\n",
        "res['average']=fuzz.trimf(res.universe,[0,0.2,0.3])\n",
        "res['good']=fuzz.trimf(res.universe,[0.2,1,1])"
      ],
      "execution_count": 0,
      "outputs": []
    },
    {
      "cell_type": "code",
      "metadata": {
        "id": "mzeX6CBckrhQ",
        "colab_type": "code",
        "colab": {}
      },
      "source": [
        "dict_r={}\n",
        "for i in range(1,13):\n",
        "  dict_r[col_names[i]]=ctrl.Antecedent(np.arange(0, 1, 0.1), col_names[i])\n",
        "res=ctrl.Consequent(np.arange(0, 1, 0.1), 'result')\n",
        "for i in range(1,13):\n",
        "  dict_r[col_names[i]]['BC']=fuzz.gaussmf(dict_r[col_names[i]].universe,0,0.35)\n",
        "  dict_r[col_names[i]]['anon']=fuzz.gaussmf(dict_r[col_names[i]].universe,0.25,0.35)\n",
        "  dict_r[col_names[i]]['EF']=fuzz.gaussmf(dict_r[col_names[i]].universe,0.55,0.35)\n",
        "res['poor']=fuzz.gaussmf(res.universe,0,0.35)\n",
        "res['average']=fuzz.gaussmf(res.universe,0.25,0.35)\n",
        "res['good']=fuzz.gaussmf(res.universe,0.55,0.35)"
      ],
      "execution_count": 0,
      "outputs": []
    },
    {
      "cell_type": "code",
      "metadata": {
        "id": "9UGX44-Bp4R7",
        "colab_type": "code",
        "colab": {}
      },
      "source": [
        "dict_r={}\n",
        "for i in range(1,13):\n",
        "  dict_r[col_names[i]]=ctrl.Antecedent(np.arange(0, 1, 0.1), col_names[i])\n",
        "res=ctrl.Consequent(np.arange(0, 1, 0.1), 'result')\n",
        "for i in range(1,13):\n",
        "  dict_r[col_names[i]]['BC']=fuzz.trapmf(dict_r[col_names[i]].universe,[0,0,0.08,0.2])\n",
        "  dict_r[col_names[i]]['anon']=fuzz.trapmf(dict_r[col_names[i]].universe,[0,0.1,0.2,0.3])\n",
        "  dict_r[col_names[i]]['EF']=fuzz.trapmf(dict_r[col_names[i]].universe,[0.3,0.7,0.8,1])\n",
        "res['poor']=fuzz.trapmf(res.universe,[0,0,0.08,0.2])\n",
        "res['average']=fuzz.trapmf(res.universe,[0,0.1,0.2,0.3])\n",
        "res['good']=fuzz.trapmf(res.universe,[0.3,0.7,0.8,1])"
      ],
      "execution_count": 0,
      "outputs": []
    },
    {
      "cell_type": "code",
      "metadata": {
        "id": "tv8YRtGKuVC4",
        "colab_type": "code",
        "colab": {}
      },
      "source": [
        "dict_r={}\n",
        "for i in range(1,13):\n",
        "  dict_r[col_names[i]]=ctrl.Antecedent(np.arange(0, 1, 0.1), col_names[i])\n",
        "res=ctrl.Consequent(np.arange(0, 1, 0.1), 'result')\n",
        "for i in range(1,13):\n",
        "  dict_r[col_names[i]]['BC']=fuzz.sigmf(dict_r[col_names[i]].universe,0,3)\n",
        "  dict_r[col_names[i]]['anon']=fuzz.sigmf(dict_r[col_names[i]].universe,0.15,5)\n",
        "  dict_r[col_names[i]]['EF']=fuzz.sigmf(dict_r[col_names[i]].universe,0.3,8)\n",
        "res['poor']=fuzz.sigmf(res.universe,0,3)\n",
        "res['average']=fuzz.sigmf(res.universe,0.15,5)\n",
        "res['good']=fuzz.sigmf(res.universe,0.3,8)"
      ],
      "execution_count": 0,
      "outputs": []
    },
    {
      "cell_type": "code",
      "metadata": {
        "id": "OmP2hXGoyifH",
        "colab_type": "code",
        "colab": {}
      },
      "source": [
        "dict_r={}\n",
        "for i in range(1,13):\n",
        "  dict_r[col_names[i]]=ctrl.Antecedent(np.arange(0, 1, 0.1), col_names[i])\n",
        "res=ctrl.Consequent(np.arange(0, 1, 0.1), 'result')\n",
        "for i in range(1,13):\n",
        "  dict_r[col_names[i]]['BC']=fuzz.gbellmf(dict_r[col_names[i]].universe,0.1,0,0.2)\n",
        "  dict_r[col_names[i]]['anon']=fuzz.gbellmf(dict_r[col_names[i]].universe,0.1,0.2,0.3)\n",
        "  dict_r[col_names[i]]['EF']=fuzz.gbellmf(dict_r[col_names[i]].universe,0.3,1,1)\n",
        "res['poor']=fuzz.gbellmf(res.universe,0.1,0,0.2)\n",
        "res['average']=fuzz.gbellmf(res.universe,0.1,0.2,0.3)\n",
        "res['good']=fuzz.gbellmf(res.universe,0.3,1,1)"
      ],
      "execution_count": 0,
      "outputs": []
    },
    {
      "cell_type": "code",
      "metadata": {
        "id": "gxIu2YsAorXC",
        "colab_type": "code",
        "colab": {
          "base_uri": "https://localhost:8080/",
          "height": 281
        },
        "outputId": "f52907b8-df45-49f5-f8ca-00968fdea062"
      },
      "source": [
        "res.view()"
      ],
      "execution_count": 148,
      "outputs": [
        {
          "output_type": "display_data",
          "data": {
            "image/png": "[encoded data removed]",
            "text/plain": [
              "<Figure size 432x288 with 1 Axes>"
            ]
          },
          "metadata": {
            "tags": [],
            "needs_background": "light"
          }
        }
      ]
    },
    {
      "cell_type": "code",
      "metadata": {
        "id": "bxE-OAt2lLVN",
        "colab_type": "code",
        "colab": {
          "base_uri": "https://localhost:8080/",
          "height": 281
        },
        "outputId": "53b043de-bb6e-41f1-c506-daee981d3da3"
      },
      "source": [
        "dict_r['C181'].view()"
      ],
      "execution_count": 149,
      "outputs": [
        {
          "output_type": "display_data",
          "data": {
            "image/png": "[encoded data removed]",
            "text/plain": [
              "<Figure size 432x288 with 1 Axes>"
            ]
          },
          "metadata": {
            "tags": [],
            "needs_background": "light"
          }
        }
      ]
    },
    {
      "cell_type": "code",
      "metadata": {
        "id": "E2PpcevibeCB",
        "colab_type": "code",
        "colab": {}
      },
      "source": [
        "from collections import Counter\n",
        "import operator\n",
        "def gen_mem(temp,r):\n",
        "# rulebase=[]\n",
        "\n",
        "# for i in range(len(rules_up)):\n",
        "  r1=[]\n",
        "  c=Counter(r)\n",
        "  # print(rules[i])\n",
        "  for j in range(len(r)):\n",
        "    if r[j]==1:\n",
        "      r1.append(\"BC\")\n",
        "    elif r[j]==2:\n",
        "      r1.append(\"anon\")\n",
        "    else:\n",
        "      r1.append(\"EF\")\n",
        "  # print(r1)\n",
        "  a=set((0,1))\n",
        "  b=set((3,4,5))\n",
        "  ind1=[i for i, x in enumerate(rules_up[i]) if x ==1]\n",
        "  ind2=[i for i, x in enumerate(rules_up[i]) if x ==2]\n",
        "  ind3=[i for i, x in enumerate(rules_up[i]) if x ==3]\n",
        "  # print( a.issubset(ind1))\n",
        "  \n",
        "  if max(c.items(), key=operator.itemgetter(1))[0]==1:\n",
        "    \n",
        "    if a.issubset(ind1):\n",
        "      \n",
        "      rule=ctrl.Rule(dict_r[\"C216\"][r1[0]] & dict_r[\"C217\"][r1[1]] & dict_r[\"C220\"][r1[2]] & dict_r[\"C231\"][r1[3]] & dict_r[\"C232\"][r1[4]] & dict_r[\"C235\"][r1[5]] & dict_r[\"C71\"][r1[6]] & dict_r[\"C72\"][r1[7]] & dict_r[\"C75\"][r1[8]] & dict_r[\"C181\"][r1[9]] & dict_r[\"C182\"][r1[10]] & dict_r[\"C185\"][r1[11]], consequent=res[\"poor\"])\n",
        "    elif b.issubset(ind1):\n",
        "      rule=ctrl.Rule(dict_r[\"C216\"][r1[0]] & dict_r[\"C217\"][r1[1]] & dict_r[\"C220\"][r1[2]] & dict_r[\"C231\"][r1[3]] & dict_r[\"C232\"][r1[4]] & dict_r[\"C235\"][r1[5]] & dict_r[\"C71\"][r1[6]] & dict_r[\"C72\"][r1[7]] & dict_r[\"C75\"][r1[8]] & dict_r[\"C181\"][r1[9]] & dict_r[\"C182\"][r1[10]] & dict_r[\"C185\"][r1[11]], consequent=res[\"good\"])\n",
        "    else:\n",
        "      rule=ctrl.Rule(dict_r[\"C216\"][r1[0]] & dict_r[\"C217\"][r1[1]] & dict_r[\"C220\"][r1[2]] & dict_r[\"C231\"][r1[3]] & dict_r[\"C232\"][r1[4]] & dict_r[\"C235\"][r1[5]] & dict_r[\"C71\"][r1[6]] & dict_r[\"C72\"][r1[7]] & dict_r[\"C75\"][r1[8]] & dict_r[\"C181\"][r1[9]] & dict_r[\"C182\"][r1[10]] & dict_r[\"C185\"][r1[11]], consequent=res[\"good\"])\n",
        "  elif max(c.items(), key=operator.itemgetter(1))[0]==2:\n",
        "    rule=ctrl.Rule(dict_r[\"C216\"][r1[0]] & dict_r[\"C217\"][r1[1]] & dict_r[\"C220\"][r1[2]] & dict_r[\"C231\"][r1[3]] & dict_r[\"C232\"][r1[4]] & dict_r[\"C235\"][r1[5]] & dict_r[\"C71\"][r1[6]] & dict_r[\"C72\"][r1[7]] & dict_r[\"C75\"][r1[8]] & dict_r[\"C181\"][r1[9]] & dict_r[\"C182\"][r1[10]] & dict_r[\"C185\"][r1[11]], consequent=res[\"average\"])\n",
        "  else:\n",
        "    rule=ctrl.Rule(dict_r[\"C216\"][r1[0]] & dict_r[\"C217\"][r1[1]] & dict_r[\"C220\"][r1[2]] & dict_r[\"C231\"][r1[3]] & dict_r[\"C232\"][r1[4]] & dict_r[\"C235\"][r1[5]] & dict_r[\"C71\"][r1[6]] & dict_r[\"C72\"][r1[7]] & dict_r[\"C75\"][r1[8]] & dict_r[\"C181\"][r1[9]] & dict_r[\"C182\"][r1[10]] & dict_r[\"C185\"][r1[11]], consequent=res[\"good\"])\n",
        "  # rulebase.append(rule)\n",
        "    #   r.append(rulebase[j])\n",
        "  t=[]\n",
        "  result=ctrl.ControlSystem(rule)\n",
        "  res_simul=ctrl.ControlSystemSimulation(result)\n",
        "  # for m in range(temp.shape[0]):\n",
        "  #   if m==28:\n",
        "  #     continue\n",
        "  #   for j in range(1,13):\n",
        "      \n",
        "  #     res_simul.input[col_names[j]]=temp[m][j-1]\n",
        "    \n",
        "  #   try:\n",
        "  #     res_simul.compute()\n",
        "  #     x=res_simul.output['result']\n",
        "  #   except:\n",
        "  #     x=0\n",
        "  #   t.append(x)\n",
        "  # return t\n",
        "  # \n",
        "  # print(temp)\n",
        "  # print(temp[0])\n",
        "  for j in range(1,13):\n",
        "      # print((i,j-1))\n",
        "      # print(temp[i][j-1])\n",
        "      res_simul.input[col_names[j]]=temp[j-1]\n",
        "  try:\n",
        "    res_simul.compute()\n",
        "    x=res_simul.output['result']\n",
        "  except:\n",
        "    x=0\n",
        "  return x\n",
        "    \n",
        "  "
      ],
      "execution_count": 0,
      "outputs": []
    },
    {
      "cell_type": "code",
      "metadata": {
        "id": "X3ejkvHCbqXO",
        "colab_type": "code",
        "colab": {}
      },
      "source": [
        "def com_grade(l,rule):\n",
        "    res=1\n",
        "    res=res*gen_mem(l,rule)\n",
        "    return res\n",
        "    \n",
        "  "
      ],
      "execution_count": 0,
      "outputs": []
    },
    {
      "cell_type": "code",
      "metadata": {
        "id": "n_wdkguqkNQk",
        "colab_type": "code",
        "colab": {}
      },
      "source": [
        "def grade_certainty(X,rules,y):\n",
        "    certainty_factor=[]\n",
        "    cons=[]\n",
        "    for i in range(len(rules)):\n",
        "        t=[]\n",
        "        # print(X.shape)\n",
        "        # t=com_grade(X,rules[i])\n",
        "        for j in range(X.shape[0]):\n",
        "            # print(X[j])\n",
        "            temp=com_grade(X[j],rules[i])\n",
        "            t.append(temp)\n",
        "        Bclass0=0\n",
        "        Bclass1=0\n",
        "        # print(t)\n",
        "        for j in range(len(t)):\n",
        "            if y[j]==0:\n",
        "                Bclass0+=t[j]\n",
        "            else:\n",
        "                Bclass1+=t[j]\n",
        "        cons_class=max(Bclass0,Bclass1)\n",
        "        o_class=min(Bclass0,Bclass1)\n",
        "        if cons_class==0 and o_class==0:\n",
        "            cf=0\n",
        "        else:\n",
        "            cf=(cons_class - o_class)/(cons_class + o_class)\n",
        "        if cons_class==Bclass0:\n",
        "            cons.append(0)\n",
        "        else:\n",
        "            cons.append(1)\n",
        "        certainty_factor.append(cf)\n",
        "    return cons,certainty_factor\n",
        "        \n",
        "        "
      ],
      "execution_count": 0,
      "outputs": []
    },
    {
      "cell_type": "code",
      "metadata": {
        "id": "gScNO-4Wkj6x",
        "colab_type": "code",
        "colab": {}
      },
      "source": [
        "X_train, X_test, y_train, y_test = train_test_split(np.array(temp.iloc[:,0:12]), y, test_size=0.2, random_state=123)\n"
      ],
      "execution_count": 0,
      "outputs": []
    },
    {
      "cell_type": "code",
      "metadata": {
        "id": "sBRKT6A1kU2c",
        "colab_type": "code",
        "colab": {}
      },
      "source": [
        "def model(X,y,rules):\n",
        "    cons,cf=grade_certainty(X,rules,y)\n",
        "    cons_class=[]\n",
        "    certainty_factor=[]\n",
        "    rev_rules=[]\n",
        "    for i in range(len(cf)):\n",
        "        if cf[i]!=0:\n",
        "            certainty_factor.append(cf[i])\n",
        "            cons_class.append(cons[i])\n",
        "            rev_rules.append(rules[i])\n",
        "    return cons_class,certainty_factor,rev_rules\n",
        "            \n",
        "    \n",
        "    "
      ],
      "execution_count": 0,
      "outputs": []
    },
    {
      "cell_type": "code",
      "metadata": {
        "id": "755e_aDLkcsN",
        "colab_type": "code",
        "colab": {}
      },
      "source": [
        "cons_class,certainty_factor,rev_rules=model(X_train,y_train,rules_up)"
      ],
      "execution_count": 0,
      "outputs": []
    },
    {
      "cell_type": "code",
      "metadata": {
        "id": "4u9TU89H4tIU",
        "colab_type": "code",
        "colab": {}
      },
      "source": [
        "def predict(X,y,rules,cons_class,certainty_factor):\n",
        "    output_class=[]\n",
        "    cf=[]\n",
        "    r=[]\n",
        "    for i in range(X.shape[0]):\n",
        "        m=-1\n",
        "        o=None\n",
        "        for j in range(len(rules)):\n",
        "            com=com_grade(X[i],rules[j])\n",
        "            if com*certainty_factor[j]>m:\n",
        "                m=com*certainty_factor[j]\n",
        "                o=cons_class[j]\n",
        "                ru=rules[j]\n",
        "        cf.append(m)\n",
        "        output_class.append(o)\n",
        "        r.append(ru)\n",
        "    return output_class,cf,r\n",
        "            \n",
        "            \n",
        "    "
      ],
      "execution_count": 0,
      "outputs": []
    },
    {
      "cell_type": "code",
      "metadata": {
        "id": "x9TRyarE4wAa",
        "colab_type": "code",
        "colab": {}
      },
      "source": [
        "output_class,cf,r=predict(X_test,y_test,rev_rules,cons_class,certainty_factor)"
      ],
      "execution_count": 0,
      "outputs": []
    },
    {
      "cell_type": "code",
      "metadata": {
        "id": "oTpBbqyP46-k",
        "colab_type": "code",
        "outputId": "baec3fdf-7c2c-431a-e63a-088425865700",
        "colab": {
          "base_uri": "https://localhost:8080/",
          "height": 34
        }
      },
      "source": [
        "accuracy_score(y_test,output_class)"
      ],
      "execution_count": 159,
      "outputs": [
        {
          "output_type": "execute_result",
          "data": {
            "text/plain": [
              "0.6666666666666666"
            ]
          },
          "metadata": {
            "tags": []
          },
          "execution_count": 159
        }
      ]
    },
    {
      "cell_type": "code",
      "metadata": {
        "id": "5wFocbEv6F8s",
        "colab_type": "code",
        "outputId": "98f839b2-a0ea-4a9b-ae69-593d90f7abe7",
        "colab": {
          "base_uri": "https://localhost:8080/",
          "height": 54
        }
      },
      "source": [
        "print(certainty_factor)"
      ],
      "execution_count": 144,
      "outputs": [
        {
          "output_type": "stream",
          "text": [
            "[0.23372633050125546, 0.23372633050125546, 0.23372633050125546, 0.23355005727398434, 0.2333891648211274, 0.23370353468371105, 0.23392330803632566, 0.23419323530354946, 0.23419323530354946, 0.23364464222326606, 0.23395227587061815, 0.23382864899743913, 0.23315188828179645, 0.2339038362468837, 0.2338673580600031, 0.2335911203076991, 0.23359685881419462, 0.2317304649862683, 0.23403611915269323, 0.23395424384863883, 0.23396806515205448, 0.23243592163026594, 0.23378484210586267, 0.2339918715070487, 0.23083313889356236, 0.23337674620812643, 0.23380266383029413, 0.23201938958246734, 0.23159043273321026, 0.23396962957184533, 0.23403138888087033, 0.23398468926375202, 0.23383619219519572, 0.2346401653581841, 0.23273057729767746, 0.2320006241206337, 0.2343097014240599, 0.23496796746962798, 0.23662156574080373, 0.23398691973753652, 0.23211376870933131, 0.2321850636150787, 0.23324466849987924, 0.23472016551240618, 0.23588492510430104, 0.23344978165660807, 0.23432751020814158, 0.23313332083582763, 0.2334173033043112, 0.23332140813971725, 0.23265085164955465, 0.23265085164955465, 0.23265085164955465, 0.23207963918034444, 0.23555425278787948, 0.23358409697563304, 0.23329486851624048, 0.23329486851624048, 0.23349142797199463, 0.23350995680278028, 0.23085208364196996, 0.2350380771120736, 0.23124933679698007, 0.23174006332214164, 0.23034321319606255, 0.23253520612124154, 0.23323676101583257, 0.23342411747135047, 0.23337148731893004, 0.23261162096664284, 0.2328804997752113, 0.23224440503349406, 0.23394366493429733, 0.23219228315415666, 0.23023904666165598, 0.23343938287032517, 0.23349543380536297, 0.23263322175039797, 0.2390728532398397, 0.2338749363201449, 0.23494483980213632, 0.23384206794397688, 0.2339264755330082, 0.23761283303754316, 0.23276513267701088, 0.23510351760827194, 0.24014866740760743, 0.2387486166619856, 0.2387486166619856, 0.2387486166619856, 0.2387486166619856, 0.23300755092549946, 0.23300755092549946, 0.2331280131285896, 0.2331280131285896, 0.2331280131285896, 0.23221762818520716, 0.23221762818520716, 0.23221762818520716, 0.23384838414131595, 0.2346695017207358, 0.2346695017207358, 0.23451997882940137, 0.23092243159290168, 0.22702280744510508, 0.23829406762759045, 0.23742087808023796, 0.23645475141388514, 0.23259717655876938, 0.22841099138294596, 0.236023679834091, 0.23200720715738216, 0.23208423446375762, 0.22966902987518872, 0.22792422066563708, 0.22792422066563708, 0.22905327283404378, 0.22931260656721442]\n"
          ],
          "name": "stdout"
        }
      ]
    },
    {
      "cell_type": "code",
      "metadata": {
        "id": "eVKxxvkMfarC",
        "colab_type": "code",
        "colab": {
          "base_uri": "https://localhost:8080/",
          "height": 34
        },
        "outputId": "7a90cadc-7aa5-40ed-f9e7-aea87400cb49"
      },
      "source": [
        "print(output_class)"
      ],
      "execution_count": 167,
      "outputs": [
        {
          "output_type": "stream",
          "text": [
            "[0, 0, 0, 0, 0, 0, 0, 0, 0, 0, 0, 0, 0, 0, 0, 0, 0, 0, 0, 0, 0, 0, 0, 0]\n"
          ],
          "name": "stdout"
        }
      ]
    },
    {
      "cell_type": "code",
      "metadata": {
        "id": "HN-pJuT_ptNG",
        "colab_type": "code",
        "colab": {
          "base_uri": "https://localhost:8080/",
          "height": 34
        },
        "outputId": "84bfdc18-53fe-4e31-bbb4-823cb2020617"
      },
      "source": [
        "print(y_test)"
      ],
      "execution_count": 85,
      "outputs": [
        {
          "output_type": "stream",
          "text": [
            "[0. 1. 0. 1. 0. 0. 0. 1. 0. 0. 0. 0. 1. 1. 0. 0. 1. 1. 0. 0. 0. 1. 0. 0.]\n"
          ],
          "name": "stdout"
        }
      ]
    }
  ]
}
